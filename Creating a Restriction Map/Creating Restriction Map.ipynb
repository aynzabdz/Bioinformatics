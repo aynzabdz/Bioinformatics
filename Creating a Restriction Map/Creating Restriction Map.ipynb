{
 "cells": [
  {
   "cell_type": "markdown",
   "id": "3e2b9238",
   "metadata": {},
   "source": [
    "<h1> Restriction Map </h1>"
   ]
  },
  {
   "cell_type": "markdown",
   "id": "12f07c04",
   "metadata": {},
   "source": [
    "This notebook is a solution of <a href=\"https://rosalind.info/problems/pdpl/\">this problem.</a>"
   ]
  },
  {
   "cell_type": "code",
   "execution_count": 1,
   "id": "e9f95292",
   "metadata": {},
   "outputs": [],
   "source": [
    "import math\n",
    "import copy"
   ]
  },
  {
   "cell_type": "markdown",
   "id": "ee616a4d",
   "metadata": {},
   "source": [
    "First we will take the multisel $L$ as input"
   ]
  },
  {
   "cell_type": "code",
   "execution_count": 2,
   "id": "8b424b54",
   "metadata": {},
   "outputs": [
    {
     "name": "stdin",
     "output_type": "stream",
     "text": [
      "Enter the multiset L :  2 2 3 3 4 5 6 7 8 10\n"
     ]
    }
   ],
   "source": [
    "L = list(map(int,input(\"Enter the multiset L : \").strip().split()))\n",
    "L = sorted(L)"
   ]
  },
  {
   "cell_type": "markdown",
   "id": "c910032c",
   "metadata": {},
   "source": [
    "Then we will calculate the number of restriction points here. Length of the multiset is $\\binom{n}{2}$. if we denote $ x = \\binom{n}{2}$ we will have $n = \\frac{1 + \\sqrt{1 + 8x}}{2}$. which is the number of restriction points."
   ]
  },
  {
   "cell_type": "code",
   "execution_count": 3,
   "id": "dd9ea2a3",
   "metadata": {},
   "outputs": [
    {
     "data": {
      "text/plain": [
       "5"
      ]
     },
     "execution_count": 3,
     "metadata": {},
     "output_type": "execute_result"
    }
   ],
   "source": [
    "x = len(L)\n",
    "n = 1 + 8 * x\n",
    "n = math.sqrt(n)\n",
    "n = n + 1\n",
    "n = n//2\n",
    "n = int(n)\n",
    "\n",
    "n"
   ]
  },
  {
   "cell_type": "markdown",
   "id": "5856dbc3",
   "metadata": {},
   "source": [
    "This function solves the partial digest problem, it uses the algorithm explained in the chapter 4. takes the largest element and tries to put that element in the solution list (in left or right), then deletes that element (and distances corresponding to that element) from the multiset.\n",
    "\\\\\n",
    "If it won't be able to add the element in neither left or right, the no solution is found."
   ]
  },
  {
   "cell_type": "code",
   "execution_count": 4,
   "id": "a864265e",
   "metadata": {},
   "outputs": [],
   "source": [
    "def solve_pdp(L, n):\n",
    "    Sol = [0]\n",
    "    M = max(L)\n",
    "            \n",
    "    while L:\n",
    "    \n",
    "        Max_Distance = max(L)\n",
    "        \n",
    "        # trying to insert M in solution\n",
    "        x1, x2 = M - Max_Distance, Max_Distance\n",
    "        \n",
    "        is_x1_valid = True\n",
    "        is_x2_valid = True\n",
    "        \n",
    "        x1_distances = []\n",
    "        x2_distances = []\n",
    "        \n",
    "        # Check if x1 is a valid choice\n",
    "        for point in Sol:\n",
    "            Distance = abs(point - x1)\n",
    "            x1_distances.append(Distance)\n",
    "            \n",
    "            # if x1 creates a distance that is not in L, then it should not be valid\n",
    "            if not Distance in L: \n",
    "                is_x1_valid = False\n",
    "                break\n",
    "                \n",
    "        # If x1 is not valid, we will try to check wheter if x2 is valid\n",
    "        \n",
    "        if is_x1_valid == False:\n",
    "            for point in Sol:\n",
    "                Distance = abs(point - x2)\n",
    "                x2_distances.append(Distance)\n",
    "\n",
    "                if not Distance in L: \n",
    "                    is_x2_valid = False\n",
    "                    break\n",
    "                    \n",
    "        # if both of x1 and x2 are not valid then we have no solution            \n",
    "        if is_x1_valid == False and is_x2_valid == False:\n",
    "            print(\"No solution found\")\n",
    "            return\n",
    "        \n",
    "        # if x1 is a valid choice to place, we will append x1\n",
    "        # then we remove x1 from L which means all distances from x1 should be removed\n",
    "        if is_x1_valid : \n",
    "            Sol.append(x1)\n",
    "            for distance in x1_distances:\n",
    "                L.remove(distance)\n",
    "            continue\n",
    "            \n",
    "        # if x2 is valid, we do the same\n",
    "        \n",
    "        if is_x2_valid : \n",
    "            Sol.append(x2)\n",
    "            for distance in x2_distances:\n",
    "                L.remove(distance)\n",
    "            continue\n",
    "            \n",
    "    print(\"a solution is found! : \", end = \"\")\n",
    "    Sol = sorted(Sol)\n",
    "    print(Sol)\n",
    "    return Sol"
   ]
  },
  {
   "cell_type": "code",
   "execution_count": 5,
   "id": "e3d84911",
   "metadata": {},
   "outputs": [
    {
     "name": "stdout",
     "output_type": "stream",
     "text": [
      "a solution is found! : [0, 2, 4, 7, 10]\n"
     ]
    }
   ],
   "source": [
    "L_Copy = copy.deepcopy(L)\n",
    "solution = solve_pdp(L_Copy, int(n))"
   ]
  }
 ],
 "metadata": {
  "kernelspec": {
   "display_name": "Python 3 (ipykernel)",
   "language": "python",
   "name": "python3"
  },
  "language_info": {
   "codemirror_mode": {
    "name": "ipython",
    "version": 3
   },
   "file_extension": ".py",
   "mimetype": "text/x-python",
   "name": "python",
   "nbconvert_exporter": "python",
   "pygments_lexer": "ipython3",
   "version": "3.10.4"
  }
 },
 "nbformat": 4,
 "nbformat_minor": 5
}
